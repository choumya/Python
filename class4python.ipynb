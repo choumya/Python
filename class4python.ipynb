{
 "cells": [
  {
   "cell_type": "code",
   "execution_count": 1,
   "id": "7a434660",
   "metadata": {},
   "outputs": [
    {
     "name": "stdout",
     "output_type": "stream",
     "text": [
      "yes\n"
     ]
    }
   ],
   "source": [
    "##loops\n",
    "#if condition\n",
    "\n",
    "name=\"test\"\n",
    "if name==\"test\":\n",
    "    print(\"yes\")\n"
   ]
  },
  {
   "cell_type": "code",
   "execution_count": 9,
   "id": "dc1b908e",
   "metadata": {},
   "outputs": [
    {
     "name": "stdout",
     "output_type": "stream",
     "text": [
      "no\n"
     ]
    }
   ],
   "source": [
    "#if-else\n",
    "if name==\"test\":\n",
    "    print(\"yes\")\n",
    "else:\n",
    "    print(\"no\")"
   ]
  },
  {
   "cell_type": "code",
   "execution_count": 8,
   "id": "deb5a12b",
   "metadata": {},
   "outputs": [
    {
     "name": "stdout",
     "output_type": "stream",
     "text": [
      "pass\n"
     ]
    }
   ],
   "source": [
    "#nested if\n",
    "name=\"sachin\"\n",
    "score=100\n",
    "\n",
    "if name==\"sachin\"and score<50:\n",
    "    print(\"fail\")\n",
    "elif name==\"sachin\"and score>50:\n",
    "    print(\"pass\")\n",
    "elif name==\"sachin\"and score==100:\n",
    "    print(\"centum\")\n",
    "else:\n",
    "    print(\"nothing\")"
   ]
  },
  {
   "cell_type": "code",
   "execution_count": 10,
   "id": "340d7ecf",
   "metadata": {},
   "outputs": [
    {
     "name": "stdout",
     "output_type": "stream",
     "text": [
      "pass\n"
     ]
    }
   ],
   "source": [
    "#if ladder\n",
    "\n",
    "if name==\"sachin\":\n",
    "    if score<50:\n",
    "        print(\"fail\")\n",
    "        if score<10:\n",
    "            print(\"10\")\n",
    "    else:\n",
    "        print(\"pass\")\n"
   ]
  },
  {
   "cell_type": "code",
   "execution_count": 11,
   "id": "d0b323f4",
   "metadata": {},
   "outputs": [],
   "source": [
    "###signal,police \n",
    "#signal red,police yes-stop\n",
    "#signal red, police no-go\n",
    "#signal yellow,police yes-break\n",
    "#signal yellow,police no-go\n",
    "#signal green-go"
   ]
  },
  {
   "cell_type": "code",
   "execution_count": 12,
   "id": "a7eb82c6",
   "metadata": {},
   "outputs": [
    {
     "name": "stdout",
     "output_type": "stream",
     "text": [
      "0\n",
      "1\n",
      "2\n",
      "3\n",
      "4\n"
     ]
    }
   ],
   "source": [
    "##while\n",
    "\n",
    "i=0\n",
    "while i<5: #true\n",
    "    print(i)\n",
    "    i=i+1"
   ]
  },
  {
   "cell_type": "code",
   "execution_count": 13,
   "id": "4ae6ac90",
   "metadata": {},
   "outputs": [
    {
     "name": "stdout",
     "output_type": "stream",
     "text": [
      "range(0, 5)\n"
     ]
    }
   ],
   "source": [
    "##for\n",
    "print(range(5))"
   ]
  },
  {
   "cell_type": "code",
   "execution_count": 14,
   "id": "9080d114",
   "metadata": {},
   "outputs": [
    {
     "name": "stdout",
     "output_type": "stream",
     "text": [
      "[0, 1, 2, 3, 4]\n"
     ]
    }
   ],
   "source": [
    "print(list(range(5)))"
   ]
  },
  {
   "cell_type": "code",
   "execution_count": 16,
   "id": "78d1b972",
   "metadata": {},
   "outputs": [
    {
     "name": "stdout",
     "output_type": "stream",
     "text": [
      "0\n",
      "1\n",
      "2\n",
      "3\n",
      "4\n"
     ]
    }
   ],
   "source": [
    "for i in range(5):\n",
    "    print(i)"
   ]
  },
  {
   "cell_type": "code",
   "execution_count": 19,
   "id": "dcf16290",
   "metadata": {},
   "outputs": [
    {
     "name": "stdout",
     "output_type": "stream",
     "text": [
      "hi\n",
      "hello\n",
      "welcome\n"
     ]
    }
   ],
   "source": [
    "a=[\"hi\",\"hello\",\"welcome\"]\n",
    "for i in a:\n",
    "    print(i)"
   ]
  },
  {
   "cell_type": "code",
   "execution_count": 21,
   "id": "b6b2e354",
   "metadata": {},
   "outputs": [
    {
     "name": "stdout",
     "output_type": "stream",
     "text": [
      "2\n",
      "4\n",
      "6\n",
      "8\n",
      "10\n",
      "12\n",
      "14\n",
      "16\n",
      "18\n"
     ]
    }
   ],
   "source": [
    "for i in range (2,20,2):\n",
    "    print(i)\n"
   ]
  },
  {
   "cell_type": "code",
   "execution_count": 24,
   "id": "17a782e3",
   "metadata": {},
   "outputs": [
    {
     "name": "stdout",
     "output_type": "stream",
     "text": [
      "key is name\n",
      "value is chou\n",
      "key is loc\n",
      "value is chennai\n"
     ]
    }
   ],
   "source": [
    "a={\"name\":\"chou\", \"loc\":\"chennai\"}\n",
    "for k,v in a.items():\n",
    "    print(\"key is\", k)\n",
    "    print(\"value is\", v)"
   ]
  },
  {
   "cell_type": "code",
   "execution_count": 29,
   "id": "ac6f69de",
   "metadata": {},
   "outputs": [],
   "source": [
    "a=[\"apple\",\"apple\",\"mango\",\"orange\",\"banana\"]\n",
    "##op1{\"apple\":2,\"mango\":1,\"orange\":1,\"banana\":1}\n",
    "##op2 [ango,orange, banana]\n",
    "##op3=apple"
   ]
  },
  {
   "cell_type": "code",
   "execution_count": 28,
   "id": "4d371c76",
   "metadata": {},
   "outputs": [
    {
     "name": "stdout",
     "output_type": "stream",
     "text": [
      "[0, 2, 4, 6, 8]\n"
     ]
    }
   ],
   "source": [
    "##list of even numbers\n",
    "l=[]\n",
    "for i in range(10):\n",
    "    if i%2 ==0:\n",
    "        l.append(i)\n",
    "print(l)\n"
   ]
  },
  {
   "cell_type": "code",
   "execution_count": null,
   "id": "afbcad4c",
   "metadata": {},
   "outputs": [],
   "source": []
  }
 ],
 "metadata": {
  "kernelspec": {
   "display_name": "Python 3 (ipykernel)",
   "language": "python",
   "name": "python3"
  },
  "language_info": {
   "codemirror_mode": {
    "name": "ipython",
    "version": 3
   },
   "file_extension": ".py",
   "mimetype": "text/x-python",
   "name": "python",
   "nbconvert_exporter": "python",
   "pygments_lexer": "ipython3",
   "version": "3.10.9"
  }
 },
 "nbformat": 4,
 "nbformat_minor": 5
}
