{
 "cells": [
  {
   "cell_type": "code",
   "execution_count": 1,
   "id": "f9b06970",
   "metadata": {},
   "outputs": [
    {
     "name": "stdout",
     "output_type": "stream",
     "text": [
      "hello\n"
     ]
    }
   ],
   "source": [
    "print(\"hello\")"
   ]
  },
  {
   "cell_type": "code",
   "execution_count": 2,
   "id": "1b49c53e",
   "metadata": {},
   "outputs": [
    {
     "name": "stdout",
     "output_type": "stream",
     "text": [
      "hi\n",
      "hello\n",
      "welcome\n"
     ]
    }
   ],
   "source": [
    "print(\"hi\")\n",
    "print(\"hello\")\n",
    "print(\"welcome\")"
   ]
  },
  {
   "cell_type": "code",
   "execution_count": 3,
   "id": "db15150c",
   "metadata": {},
   "outputs": [
    {
     "name": "stdout",
     "output_type": "stream",
     "text": [
      "hi\n",
      "welcome\n"
     ]
    }
   ],
   "source": [
    "#two types of comment\n",
    "#single line comment-#\n",
    "#multi line comment-\"\"\"\"\"\"\n",
    "print(\"hi\")\n",
    "#print(\"hello\")\n",
    "print(\"welcome\")"
   ]
  },
  {
   "cell_type": "code",
   "execution_count": 6,
   "id": "c1437856",
   "metadata": {},
   "outputs": [
    {
     "data": {
      "text/plain": [
       "'\\nauthor-chou\\ndate-27.05.23\\n\\n'"
      ]
     },
     "execution_count": 6,
     "metadata": {},
     "output_type": "execute_result"
    }
   ],
   "source": [
    "#multiline comment- triple quote \"\"\" \"\"\"\n",
    "\"\"\"\n",
    "author-chou\n",
    "date-27.05.23\n",
    "\n",
    "\"\"\""
   ]
  },
  {
   "cell_type": "code",
   "execution_count": 7,
   "id": "ec911193",
   "metadata": {},
   "outputs": [],
   "source": [
    "## shortcut to comment- ctrl a + ctrl /\n",
    "# print(\"hi\")\n",
    "# print(\"hello\")\n",
    "# print(\"welcome\")"
   ]
  },
  {
   "cell_type": "code",
   "execution_count": 11,
   "id": "1f004958",
   "metadata": {},
   "outputs": [
    {
     "name": "stdout",
     "output_type": "stream",
     "text": [
      "hello\n",
      "hi\n",
      "welcome\todays\n",
      "class\n"
     ]
    }
   ],
   "source": [
    "#\\n-newline\n",
    "print(\"hello\\nhi\\nwelcome\\todays\\nclass\")"
   ]
  },
  {
   "cell_type": "code",
   "execution_count": 10,
   "id": "9af658dd",
   "metadata": {},
   "outputs": [
    {
     "name": "stdout",
     "output_type": "stream",
     "text": [
      "hello\thi\twelcome\ttodays\tclass\n"
     ]
    }
   ],
   "source": [
    "#\\t-tab\n",
    "print(\"hello\\thi\\twelcome\\ttodays\\tclass\")"
   ]
  },
  {
   "cell_type": "code",
   "execution_count": 13,
   "id": "94da9753",
   "metadata": {},
   "outputs": [
    {
     "name": "stdout",
     "output_type": "stream",
     "text": [
      "enter a number12\n"
     ]
    },
    {
     "data": {
      "text/plain": [
       "'12'"
      ]
     },
     "execution_count": 13,
     "metadata": {},
     "output_type": "execute_result"
    }
   ],
   "source": [
    "#get input from user\n",
    "input(\"enter a number\")"
   ]
  },
  {
   "cell_type": "code",
   "execution_count": 15,
   "id": "3d5e6cee",
   "metadata": {},
   "outputs": [
    {
     "name": "stdout",
     "output_type": "stream",
     "text": [
      "welcome to today class\n",
      "welcome to today class\n"
     ]
    }
   ],
   "source": [
    "\n",
    "print(\"welcome to today class\")\n",
    "#printing using variable\n",
    "a=\"welcome to today class\"\n",
    "print(a)"
   ]
  },
  {
   "cell_type": "code",
   "execution_count": 18,
   "id": "22b3cfb8",
   "metadata": {},
   "outputs": [
    {
     "name": "stdout",
     "output_type": "stream",
     "text": [
      "<class 'str'>\n",
      "True\n",
      "12\n",
      " \n",
      "z\n",
      "[' ', 'F', 'S', 'a', 'a', 'a', 'i', 'l', 'm', 'n', 'r', 'z']\n"
     ]
    }
   ],
   "source": [
    "##string-\"\"\n",
    "a= \"Salman Fariz\"\n",
    "print(type(a))\n",
    "print(isinstance(a,str))\n",
    "print(len (a))\n",
    "print(min(a))\n",
    "print(max(a))\n",
    "print(sorted(a))#sort according to ascii values"
   ]
  },
  {
   "cell_type": "code",
   "execution_count": 20,
   "id": "ac7396e4",
   "metadata": {},
   "outputs": [
    {
     "name": "stdout",
     "output_type": "stream",
     "text": [
      "SALMAN FARIZ\n",
      "salman fariz\n",
      "sALMAN fARIZ\n"
     ]
    }
   ],
   "source": [
    "print(a.upper())\n",
    "print(a.lower())\n",
    "print(a.swapcase())"
   ]
  },
  {
   "cell_type": "code",
   "execution_count": 25,
   "id": "1e84fb35",
   "metadata": {},
   "outputs": [
    {
     "name": "stdout",
     "output_type": "stream",
     "text": [
      "False\n",
      "False\n",
      "True\n",
      "True\n",
      "False\n"
     ]
    }
   ],
   "source": [
    "a = \"SalmanFariz\"\n",
    "print(a.isupper())\n",
    "print(a.islower())\n",
    "print(a.isalpha())\n",
    "print(a.isalnum())\n",
    "print(a.isdigit())"
   ]
  },
  {
   "cell_type": "code",
   "execution_count": 32,
   "id": "6cef2cdf",
   "metadata": {},
   "outputs": [
    {
     "name": "stdout",
     "output_type": "stream",
     "text": [
      "MohamedSalman\n",
      "e\n",
      "ham\n",
      "Madln\n",
      "n\n",
      "namlaSdemahoM\n"
     ]
    }
   ],
   "source": [
    "#indexing\n",
    "a=\"MohamedSalman\"\n",
    "print(a[:])\n",
    "print(a[5])\n",
    "print(a[2:5])\n",
    "print(a[::3])#jump 2 values print 3rd letter\n",
    "print(a[-1])\n",
    "print(a[::-1])#reversing a string in python"
   ]
  },
  {
   "cell_type": "code",
   "execution_count": null,
   "id": "31c63961",
   "metadata": {},
   "outputs": [],
   "source": []
  },
  {
   "cell_type": "code",
   "execution_count": 33,
   "id": "4315c253",
   "metadata": {},
   "outputs": [
    {
     "name": "stdout",
     "output_type": "stream",
     "text": [
      "9\n",
      "1\n",
      "4\n",
      "4\n"
     ]
    }
   ],
   "source": [
    "a=\"salmanFariz\"\n",
    "print(a.index(\"i\"))\n",
    "print(a.index(\"a\"))\n",
    "print(a.index(\"a\",3))\n",
    "print(a.index(\"a\",3,15))"
   ]
  },
  {
   "cell_type": "code",
   "execution_count": 34,
   "id": "6622200a",
   "metadata": {},
   "outputs": [
    {
     "name": "stdout",
     "output_type": "stream",
     "text": [
      "9\n"
     ]
    }
   ],
   "source": [
    "#reverseindex\n",
    "print(a.rindex(\"i\"))"
   ]
  },
  {
   "cell_type": "code",
   "execution_count": 35,
   "id": "593f4b4a",
   "metadata": {},
   "outputs": [
    {
     "name": "stdout",
     "output_type": "stream",
     "text": [
      "9\n",
      "1\n",
      "4\n",
      "4\n"
     ]
    }
   ],
   "source": [
    "#find\n",
    "a=\"salmanFariz\"\n",
    "print(a.find(\"i\"))\n",
    "print(a.find(\"a\"))\n",
    "print(a.find(\"a\",3))\n",
    "print(a.find(\"a\",3,15))"
   ]
  },
  {
   "cell_type": "code",
   "execution_count": 38,
   "id": "0216adc5",
   "metadata": {},
   "outputs": [
    {
     "name": "stdout",
     "output_type": "stream",
     "text": [
      "-1\n",
      "-1\n"
     ]
    },
    {
     "ename": "ValueError",
     "evalue": "substring not found",
     "output_type": "error",
     "traceback": [
      "\u001b[1;31m---------------------------------------------------------------------------\u001b[0m",
      "\u001b[1;31mValueError\u001b[0m                                Traceback (most recent call last)",
      "Cell \u001b[1;32mIn[38], line 4\u001b[0m\n\u001b[0;32m      2\u001b[0m \u001b[38;5;28mprint\u001b[39m(a\u001b[38;5;241m.\u001b[39mfind(\u001b[38;5;124m\"\u001b[39m\u001b[38;5;124mb\u001b[39m\u001b[38;5;124m\"\u001b[39m))\n\u001b[0;32m      3\u001b[0m \u001b[38;5;28mprint\u001b[39m(a\u001b[38;5;241m.\u001b[39mrfind(\u001b[38;5;124m\"\u001b[39m\u001b[38;5;124mb\u001b[39m\u001b[38;5;124m\"\u001b[39m))\n\u001b[1;32m----> 4\u001b[0m \u001b[38;5;28mprint\u001b[39m(\u001b[43ma\u001b[49m\u001b[38;5;241;43m.\u001b[39;49m\u001b[43mindex\u001b[49m\u001b[43m(\u001b[49m\u001b[38;5;124;43m\"\u001b[39;49m\u001b[38;5;124;43mb\u001b[39;49m\u001b[38;5;124;43m\"\u001b[39;49m\u001b[43m)\u001b[49m)\n",
      "\u001b[1;31mValueError\u001b[0m: substring not found"
     ]
    }
   ],
   "source": [
    "#find is similar to index but if substring is not present find will return -1\n",
    "print(a.find(\"b\"))\n",
    "print(a.rfind(\"b\"))\n",
    "print(a.index(\"b\"))#will return error"
   ]
  },
  {
   "cell_type": "code",
   "execution_count": 39,
   "id": "366dd2a3",
   "metadata": {},
   "outputs": [
    {
     "name": "stdout",
     "output_type": "stream",
     "text": [
      "salmanFariz\n",
      "3\n",
      "1\n"
     ]
    }
   ],
   "source": [
    "print(a)\n",
    "print(a.count(\"a\"))\n",
    "print(a.count(\"i\"))"
   ]
  },
  {
   "cell_type": "code",
   "execution_count": 40,
   "id": "0ec868f2",
   "metadata": {},
   "outputs": [
    {
     "name": "stdout",
     "output_type": "stream",
     "text": [
      "s$lm$nF$riz\n",
      "s$lmanFariz\n"
     ]
    }
   ],
   "source": [
    "print(a.replace(\"a\",\"$\"))\n",
    "print(a.replace(\"a\",\"$\",1))"
   ]
  },
  {
   "cell_type": "code",
   "execution_count": 41,
   "id": "cfce42cc",
   "metadata": {},
   "outputs": [
    {
     "name": "stdout",
     "output_type": "stream",
     "text": [
      "['s', 'lm', 'nF', 'riz']\n",
      "['s', 'lmanFariz']\n"
     ]
    }
   ],
   "source": [
    "print(a.split(\"a\"))\n",
    "print(a.split(\"a\",1))"
   ]
  },
  {
   "cell_type": "code",
   "execution_count": 61,
   "id": "d624d5ce",
   "metadata": {},
   "outputs": [
    {
     "name": "stdout",
     "output_type": "stream",
     "text": [
      "False\n",
      "False\n",
      "Test@Gmail.Com\n",
      "Test@gmail.com\n"
     ]
    }
   ],
   "source": [
    "print(a.startswith(\"s\"))\n",
    "print(a.endswith(\"a\"))\n",
    "print(a.title())\n",
    "print(a.capitalize())"
   ]
  },
  {
   "cell_type": "code",
   "execution_count": 16,
   "id": "72143ea5",
   "metadata": {},
   "outputs": [
    {
     "name": "stdout",
     "output_type": "stream",
     "text": [
      "z\n",
      "['test', 'gmail', 'com']\n",
      "test\n",
      "gmail\n",
      "com\n"
     ]
    }
   ],
   "source": [
    "#### hands on practice1 #####\n",
    "\n",
    "#1find last letter of a name without using reverse index\n",
    "a=\"Salman Fariz\"\n",
    "b=len(a)-1\n",
    "print(a[b])\n",
    "#2 a= \"test@gmail.com\"\n",
    "# op1= test\n",
    "# op2= gmail\n",
    "# op3= com\n",
    "\n",
    "a=\"test@gmail.com\"\n",
    "result=re.split(\"[@.]\", a)\n",
    "print(result)\n",
    "print(result[0])\n",
    "print(result[1])\n",
    "print(result[2])"
   ]
  },
  {
   "cell_type": "code",
   "execution_count": 34,
   "id": "52308595",
   "metadata": {},
   "outputs": [
    {
     "name": "stdout",
     "output_type": "stream",
     "text": [
      "hi demo today is saturday\n",
      "hi demo today is saturday\n",
      "hi saturday today is demo\n"
     ]
    }
   ],
   "source": [
    "a= \"hi {} today is {}\".format(\"demo\",\"saturday\")\n",
    "print(a)\n",
    "a= \"hi {0} today is {1}\".format(\"demo\",\"saturday\")\n",
    "print(a)\n",
    "a= \"hi {1} today is {0}\".format(\"demo\",\"saturday\")\n",
    "print(a)"
   ]
  },
  {
   "cell_type": "code",
   "execution_count": null,
   "id": "e912031a",
   "metadata": {},
   "outputs": [],
   "source": [
    "\n",
    "\n"
   ]
  },
  {
   "cell_type": "code",
   "execution_count": null,
   "id": "46958516",
   "metadata": {},
   "outputs": [],
   "source": []
  }
 ],
 "metadata": {
  "kernelspec": {
   "display_name": "Python 3 (ipykernel)",
   "language": "python",
   "name": "python3"
  },
  "language_info": {
   "codemirror_mode": {
    "name": "ipython",
    "version": 3
   },
   "file_extension": ".py",
   "mimetype": "text/x-python",
   "name": "python",
   "nbconvert_exporter": "python",
   "pygments_lexer": "ipython3",
   "version": "3.10.9"
  }
 },
 "nbformat": 4,
 "nbformat_minor": 5
}
