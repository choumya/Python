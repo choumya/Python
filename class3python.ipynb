{
 "cells": [
  {
   "cell_type": "code",
   "execution_count": 4,
   "id": "a63fa0e6",
   "metadata": {},
   "outputs": [
    {
     "name": "stdout",
     "output_type": "stream",
     "text": [
      "<class 'dict'>\n",
      "True\n",
      "age\n",
      "name\n"
     ]
    }
   ],
   "source": [
    "#dict-to identify each value using key \n",
    "a={\"name\": \"chou\",\"age\": \"19\",\"location\":\"madurai\"}\n",
    "print(type(a))\n",
    "print(isinstance(a,dict))\n"
   ]
  },
  {
   "cell_type": "code",
   "execution_count": 5,
   "id": "70d64a08",
   "metadata": {},
   "outputs": [
    {
     "name": "stdout",
     "output_type": "stream",
     "text": [
      "age\n",
      "name\n",
      "3\n",
      "['age', 'location', 'name']\n"
     ]
    }
   ],
   "source": [
    "#these only work for keys\n",
    "print(min(a))\n",
    "print(max(a))\n",
    "print(len(a))\n",
    "print(sorted(a))"
   ]
  },
  {
   "cell_type": "code",
   "execution_count": 6,
   "id": "04e64f60",
   "metadata": {},
   "outputs": [
    {
     "name": "stdout",
     "output_type": "stream",
     "text": [
      "dict_keys(['name', 'age', 'location'])\n",
      "dict_values(['chou', '19', 'madurai'])\n",
      "dict_items([('name', 'chou'), ('age', '19'), ('location', 'madurai')])\n"
     ]
    }
   ],
   "source": [
    "print(a.keys())\n",
    "print(a.values())\n",
    "print(a.items())"
   ]
  },
  {
   "cell_type": "code",
   "execution_count": 9,
   "id": "f59d68d4",
   "metadata": {},
   "outputs": [
    {
     "name": "stdout",
     "output_type": "stream",
     "text": [
      "chou\n",
      "chou\n"
     ]
    }
   ],
   "source": [
    "print(a[\"name\"])\n",
    "print(a.get(\"name\"))"
   ]
  },
  {
   "cell_type": "code",
   "execution_count": 12,
   "id": "21a6ae60",
   "metadata": {},
   "outputs": [
    {
     "ename": "KeyError",
     "evalue": "'demo'",
     "output_type": "error",
     "traceback": [
      "\u001b[1;31m---------------------------------------------------------------------------\u001b[0m",
      "\u001b[1;31mKeyError\u001b[0m                                  Traceback (most recent call last)",
      "Cell \u001b[1;32mIn[12], line 1\u001b[0m\n\u001b[1;32m----> 1\u001b[0m \u001b[38;5;28mprint\u001b[39m(\u001b[43ma\u001b[49m\u001b[43m[\u001b[49m\u001b[38;5;124;43m\"\u001b[39;49m\u001b[38;5;124;43mdemo\u001b[39;49m\u001b[38;5;124;43m\"\u001b[39;49m\u001b[43m]\u001b[49m)\n\u001b[0;32m      2\u001b[0m \u001b[38;5;28mprint\u001b[39m(a\u001b[38;5;241m.\u001b[39mget(\u001b[38;5;124m\"\u001b[39m\u001b[38;5;124mdemo\u001b[39m\u001b[38;5;124m\"\u001b[39m))\n",
      "\u001b[1;31mKeyError\u001b[0m: 'demo'"
     ]
    }
   ],
   "source": [
    "print(a[\"demo\"])\n"
   ]
  },
  {
   "cell_type": "code",
   "execution_count": 13,
   "id": "c1b65548",
   "metadata": {},
   "outputs": [
    {
     "name": "stdout",
     "output_type": "stream",
     "text": [
      "None\n"
     ]
    }
   ],
   "source": [
    "print(a.get(\"demo\"))"
   ]
  },
  {
   "cell_type": "code",
   "execution_count": 17,
   "id": "8369ba27",
   "metadata": {},
   "outputs": [
    {
     "name": "stdout",
     "output_type": "stream",
     "text": [
      "salman\n",
      "chou\n"
     ]
    }
   ],
   "source": [
    "print(a.get(\"demo\",\"salman\"))\n",
    "print(a.get(\"name\",\"dummy\"))"
   ]
  },
  {
   "cell_type": "code",
   "execution_count": 19,
   "id": "274bd199",
   "metadata": {},
   "outputs": [
    {
     "name": "stdout",
     "output_type": "stream",
     "text": [
      "{'name': 'chou', 'age': '19', 'location': 'madurai'}\n",
      "{'name': 'chou', 'age': '19', 'location': 'madurai', 'test': 'dummy'}\n",
      "{'name': 'chou', 'age': '19', 'location': 'madurai'}\n"
     ]
    }
   ],
   "source": [
    "print(a)\n",
    "a[\"test\"]=\"dummy\"\n",
    "print(a)\n",
    "del a[\"test\"]\n",
    "print(a)"
   ]
  },
  {
   "cell_type": "code",
   "execution_count": 23,
   "id": "2b000ebc",
   "metadata": {},
   "outputs": [
    {
     "name": "stdout",
     "output_type": "stream",
     "text": [
      "{'name': 'surya', \"age'\": '19', 'location': 'madurai'}\n"
     ]
    }
   ],
   "source": [
    "a={\"name\": \"chou\", \"age'\": \"19\", \"location\": \"madurai\", \"name\":\"surya\"}##print the recent values\n",
    "print(a)"
   ]
  },
  {
   "cell_type": "code",
   "execution_count": 24,
   "id": "870bf04f",
   "metadata": {},
   "outputs": [
    {
     "data": {
      "text/plain": [
       "('location', 'madurai')"
      ]
     },
     "execution_count": 24,
     "metadata": {},
     "output_type": "execute_result"
    }
   ],
   "source": [
    "a.popitem()#pops the last value"
   ]
  },
  {
   "cell_type": "code",
   "execution_count": 26,
   "id": "88f989c0",
   "metadata": {},
   "outputs": [
    {
     "name": "stdout",
     "output_type": "stream",
     "text": [
      "8\n",
      "2\n",
      "15\n",
      "1.6666666666666667\n",
      "125\n",
      "1\n",
      "2\n"
     ]
    }
   ],
   "source": [
    "###operators \n",
    "\n",
    "#arithmetic\n",
    "a=5\n",
    "b=3\n",
    "print(a+b)\n",
    "print(a-b)\n",
    "print(a*b)\n",
    "print(a/b)#quotient  in float values\n",
    "print(a**b)\n",
    "print(a//b)#quotient\n",
    "print(a%b)#remainder"
   ]
  },
  {
   "cell_type": "code",
   "execution_count": 27,
   "id": "95ce4620",
   "metadata": {},
   "outputs": [
    {
     "name": "stdout",
     "output_type": "stream",
     "text": [
      "False\n",
      "True\n",
      "False\n",
      "False\n",
      "True\n",
      "True\n"
     ]
    }
   ],
   "source": [
    "##relational\n",
    "print(a==b)\n",
    "print(a!=b)\n",
    "print(a<b)\n",
    "print(a<=b)\n",
    "print(a>b)\n",
    "print(a>=b)"
   ]
  },
  {
   "cell_type": "code",
   "execution_count": 28,
   "id": "93c1ad19",
   "metadata": {},
   "outputs": [],
   "source": [
    "##assignment \n",
    "a=5\n",
    "b=3"
   ]
  },
  {
   "cell_type": "code",
   "execution_count": 29,
   "id": "ee2e8acb",
   "metadata": {},
   "outputs": [
    {
     "name": "stdout",
     "output_type": "stream",
     "text": [
      "8\n"
     ]
    }
   ],
   "source": [
    "a+=3\n",
    "print(a)"
   ]
  },
  {
   "cell_type": "code",
   "execution_count": 38,
   "id": "2fb34379",
   "metadata": {},
   "outputs": [
    {
     "name": "stdout",
     "output_type": "stream",
     "text": [
      "-33\n"
     ]
    }
   ],
   "source": [
    "b-=4\n",
    "print(b)"
   ]
  },
  {
   "cell_type": "code",
   "execution_count": 39,
   "id": "08b0beb3",
   "metadata": {},
   "outputs": [
    {
     "name": "stdout",
     "output_type": "stream",
     "text": [
      "True\n",
      "False\n"
     ]
    }
   ],
   "source": [
    "##logical \n",
    "\n",
    "#and or not\n",
    "\n",
    "print(True and True)\n",
    "print(True and False)"
   ]
  },
  {
   "cell_type": "code",
   "execution_count": 40,
   "id": "0ab6f700",
   "metadata": {},
   "outputs": [
    {
     "name": "stdout",
     "output_type": "stream",
     "text": [
      "True\n",
      "True\n"
     ]
    }
   ],
   "source": [
    "print(True or True)\n",
    "print(True or False)"
   ]
  },
  {
   "cell_type": "code",
   "execution_count": 41,
   "id": "83107579",
   "metadata": {},
   "outputs": [
    {
     "name": "stdout",
     "output_type": "stream",
     "text": [
      "False\n",
      "True\n"
     ]
    }
   ],
   "source": [
    "print(not True)\n",
    "print(not False)"
   ]
  },
  {
   "cell_type": "code",
   "execution_count": null,
   "id": "ed027d02",
   "metadata": {},
   "outputs": [],
   "source": []
  }
 ],
 "metadata": {
  "kernelspec": {
   "display_name": "Python 3 (ipykernel)",
   "language": "python",
   "name": "python3"
  },
  "language_info": {
   "codemirror_mode": {
    "name": "ipython",
    "version": 3
   },
   "file_extension": ".py",
   "mimetype": "text/x-python",
   "name": "python",
   "nbconvert_exporter": "python",
   "pygments_lexer": "ipython3",
   "version": "3.10.9"
  }
 },
 "nbformat": 4,
 "nbformat_minor": 5
}
